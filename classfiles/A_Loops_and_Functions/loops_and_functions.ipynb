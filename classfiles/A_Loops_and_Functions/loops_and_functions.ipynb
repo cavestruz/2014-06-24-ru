{
 "metadata": {
  "name": "",
  "signature": "sha256:3776e4cd48d306cc1c3233e362804f4fb2460ebd470221a05977be080b31917c"
 },
 "nbformat": 3,
 "nbformat_minor": 0,
 "worksheets": [
  {
   "cells": [
    {
     "cell_type": "markdown",
     "metadata": {},
     "source": [
      "# 1. Recap and Review\n",
      "9:30 - 10:00 \n",
      "\n",
      "# 2. Loops and Functions - Quick Intro\n",
      "10:00 - 10:45\n",
      "\n",
      "# 2.1 _Break_\n",
      "10:45 - 11:00\n",
      "\n",
      "# 3. Case Study: Reading and Writing Files\n",
      "\n",
      "11:00 - 12:15\n",
      "\n",
      "---------\n"
     ]
    },
    {
     "cell_type": "markdown",
     "metadata": {},
     "source": [
      "# Recap and Review\n",
      "\n",
      "* The iPython Notebook\n",
      "* syntax errors\n",
      "* spaces\n",
      "* context\n",
      "* explain .get() more verusus square bracket references (.get() will not break)\n",
      "* more short examples\n",
      "* what is a float? bool, int, etc.\n",
      "* coding bat examples\n",
      "* project euler\n",
      "* syntax"
     ]
    },
    {
     "cell_type": "markdown",
     "metadata": {},
     "source": [
      "## The Notebook\n",
      "\n",
      "* Name and save your notebooks\n",
      "* Careful -- Undo is Unreliable\n",
      "* Code Cells versus Markdown Cells\n",
      "* Learn Markdown\n",
      "    * http://daringfireball.net/projects/markdown/\n",
      "    * Mac: I use Mou (free: http://mouapp.com) though there are many others\n",
      "    * Win: Try Markdownpad (http://markdownpad.com)"
     ]
    },
    {
     "cell_type": "markdown",
     "metadata": {},
     "source": [
      "## Syntax issues\n",
      "\n",
      "### Spaces\n",
      "\n",
      "* `cd..` versus `cd ..`\n",
      "    * you need a space. `cd` is a \"verb\" that says \"change directories\" and `..` is a specific location, i.e. \"one level up from here\"\n",
      "    * `file_names_like_this.txt`\n",
      "* `my_dictionary[\"firstname\"]` versus `my_dictionary [\"firstname\"]`\n",
      "    * No space.    \n",
      "    "
     ]
    },
    {
     "cell_type": "markdown",
     "metadata": {},
     "source": [
      "### Quotation Marks\n",
      "\n",
      "* You can use matched pairs of double quotes (`\"`) or single quotes (`'`) as you like\n",
      "* Be careful not to use the backtick character by accident `\n",
      "* It  depends what you are trying to accomplish\n",
      "\n",
      "#### Exercise: write print statements that will produce each of the following:\n",
      "\n",
      "1: `Has anyone seen Fred's Computer?`    \n",
      "2: `\"These quotation marks are driving me crazy!\" said Fred.`\n",
      "\n",
      "> Post it to the etherpad -- you have two minutes!"
     ]
    },
    {
     "cell_type": "code",
     "collapsed": false,
     "input": [
      "# Solution\n",
      "print(\"Has anyone seen Fred's Computer?\")\n",
      "print('\"These quotation marks are driving me crazy!\" said Fred.')"
     ],
     "language": "python",
     "metadata": {},
     "outputs": []
    },
    {
     "cell_type": "markdown",
     "metadata": {},
     "source": [
      "> Trial, error, and good record-keeping. \n",
      "* stackoverflow.com\n",
      "* Code snippets tool\n",
      "* Make your own \"retained wisdom\" documents"
     ]
    },
    {
     "cell_type": "markdown",
     "metadata": {},
     "source": [
      "## Data Types: int, float, bool, str, etc.\n",
      "\n",
      "> Python is a very forgiving language. Except when it isn't.\n",
      "\n",
      "* In lower-level languages like C, C++, and Java, you have to __declare__ every varable before using it, and you have to specify the __type__ of each variabe. The variable's type is usualy fixed once declared.  \n",
      "* example Java variable declaration:    \n",
      "    `int my_height_in_inches = 73;`\n",
      "     \n",
      "* Python is much more friendly. It simply tries to guess what variable type you want from the context.   \n",
      "\n",
      "    my_height_in_inches = 73   # python will guess that you want an integer\n",
      "    my_height_in_inches = 73.1 # python will guess you want a floating point number"
     ]
    },
    {
     "cell_type": "markdown",
     "metadata": {},
     "source": [
      "### Why does it matter whether a variable is an integer or a float? Aren't they both just numbers? What's the difference?\n",
      "\n"
     ]
    },
    {
     "cell_type": "markdown",
     "metadata": {},
     "source": [
      "\n",
      "type | decimal value | binary representation\n",
      "-----|---------------|----------------------\n",
      " int |     73        |      1001001 (7 bits)\n",
      " float | 73.1        | 01000000 01010010 00000110 01100110 01100110 01100110 01100110 01100110 (64 bits)\n",
      " \n",
      "* Online calculator: http://www.binaryconvert.com\n",
      "* Read wikipedia on floating point numbers https://en.wikipedia.org/wiki/Floating_point_number\n",
      "\n",
      "A person can convert 73 to 73.1 by writing \".1\" on the end of the number, but for the computer this is a whole different ballgame"
     ]
    },
    {
     "cell_type": "markdown",
     "metadata": {},
     "source": [
      "## Question: How many bits are needed to represent\n",
      "\n",
      "* Boolean values, True and False?\n",
      "* The integers 0, 1, 2, 3, 4, 5, 6, 7  (octal)"
     ]
    },
    {
     "cell_type": "markdown",
     "metadata": {},
     "source": [
      "## Python has Dynamic Types"
     ]
    },
    {
     "cell_type": "code",
     "collapsed": false,
     "input": [
      "x = 4/3\n",
      "print(\"The value of x is:\", x)\n",
      "print(\"The type of x is:\", type(x))"
     ],
     "language": "python",
     "metadata": {},
     "outputs": []
    },
    {
     "cell_type": "code",
     "collapsed": false,
     "input": [
      "x_coerced_to_float = 4/3.0\n",
      "x_coerced_to_float = float(4) / 3\n",
      "print(\"The value of x_coerced_to_float is:\", x_coerced_to_float)\n",
      "print(\"The type of x_coerced_to_float is:\", type(x_coerced_to_float))"
     ],
     "language": "python",
     "metadata": {},
     "outputs": []
    },
    {
     "cell_type": "code",
     "collapsed": false,
     "input": [
      "# Quick Exercise: what is the result of this? Why?\n",
      "\n",
      "y = float( 4 / 3)\n"
     ],
     "language": "python",
     "metadata": {},
     "outputs": []
    },
    {
     "cell_type": "code",
     "collapsed": false,
     "input": [
      "print(y)"
     ],
     "language": "python",
     "metadata": {},
     "outputs": []
    },
    {
     "cell_type": "code",
     "collapsed": false,
     "input": [],
     "language": "python",
     "metadata": {},
     "outputs": []
    },
    {
     "cell_type": "markdown",
     "metadata": {},
     "source": [
      "## Reserved names for values\n",
      "\n",
      "* `True` \n",
      "* `False`\n",
      "* `None`\n",
      "\n",
      "Spelled and capitalized as indicated"
     ]
    },
    {
     "cell_type": "code",
     "collapsed": false,
     "input": [],
     "language": "python",
     "metadata": {},
     "outputs": []
    },
    {
     "cell_type": "markdown",
     "metadata": {},
     "source": [
      "## Coding is a practice. \n",
      "\n",
      "Some good places to practice:\n",
      "\n",
      "* codingbat python examples http://codingbat.com/python\n",
      "* Project Euler https://projecteuler.net\n",
      "* Define projects for yourself. Start small, expand outward, have fun."
     ]
    },
    {
     "cell_type": "code",
     "collapsed": false,
     "input": [],
     "language": "python",
     "metadata": {},
     "outputs": []
    },
    {
     "cell_type": "markdown",
     "metadata": {},
     "source": [
      "---------\n",
      "\n",
      "# Loops and Functions\n",
      "\n"
     ]
    },
    {
     "cell_type": "markdown",
     "metadata": {},
     "source": [
      "## Loops"
     ]
    },
    {
     "cell_type": "markdown",
     "metadata": {},
     "source": [
      "### Why use loops?   \n",
      "\n",
      "* Counting\n",
      "* Doing something to every element in a list, dictionary, set, file, etc.\n",
      "* Many other applications\n",
      "\n",
      "### For Loop"
     ]
    },
    {
     "cell_type": "code",
     "collapsed": false,
     "input": [
      "# for loop\n",
      "for i in range(10):\n",
      "    print i,"
     ],
     "language": "python",
     "metadata": {},
     "outputs": []
    },
    {
     "cell_type": "markdown",
     "metadata": {},
     "source": [
      "### While Loop"
     ]
    },
    {
     "cell_type": "code",
     "collapsed": false,
     "input": [
      "# while loop\n",
      "i = 0\n",
      "while (i < 10):\n",
      "    print i,\n",
      "    i = i + 1"
     ],
     "language": "python",
     "metadata": {},
     "outputs": []
    },
    {
     "cell_type": "markdown",
     "metadata": {},
     "source": [
      "There are other types of loops, but `for` and `while` loops can handle nearly every circumstance where you need to operate of a sequence of numbers.   \n",
      "\n",
      "## Exercise\n",
      "\n",
      "* What advantages do you see for `for` loop versus `while` loop?\n",
      "* What problems could each cause?\n",
      "\n",
      "2 minutes to think about it - then discuss and/or ask questions"
     ]
    },
    {
     "cell_type": "code",
     "collapsed": false,
     "input": [],
     "language": "python",
     "metadata": {},
     "outputs": []
    },
    {
     "cell_type": "markdown",
     "metadata": {},
     "source": [
      "## Exercise: \n",
      "\n",
      "Write a `for` loop that prints the even numbers up to and including 24"
     ]
    },
    {
     "cell_type": "code",
     "collapsed": false,
     "input": [],
     "language": "python",
     "metadata": {},
     "outputs": []
    },
    {
     "cell_type": "markdown",
     "metadata": {},
     "source": [
      "## Example of using a loop to make a list of the first 20 numbers that are divisible by three\n",
      "\n",
      "This is a common type of problem. The game plan:\n",
      "\n",
      "1. declare an empty list\n",
      "2. iterate over a lot of cases (integers in this example)\n",
      "3. test each case. If it meets the desired conditions, append it to the list"
     ]
    },
    {
     "cell_type": "code",
     "collapsed": false,
     "input": [],
     "language": "python",
     "metadata": {},
     "outputs": []
    },
    {
     "cell_type": "code",
     "collapsed": false,
     "input": [],
     "language": "python",
     "metadata": {},
     "outputs": []
    },
    {
     "cell_type": "code",
     "collapsed": false,
     "input": [
      "div_by_3_list = []\n",
      "counter = 0\n",
      "desired_quantity_of_multiples = 20\n",
      "while(len(div_by_3_list) < desired_quantity_of_multiples):\n",
      "    counter += 1     # this is the same as saying counter = counter + 1\n",
      "    if counter % 3 == 0:\n",
      "        # we have found a number divisible by three\n",
      "        div_by_3_list.append(counter)"
     ],
     "language": "python",
     "metadata": {},
     "outputs": []
    },
    {
     "cell_type": "code",
     "collapsed": false,
     "input": [
      "print div_by_3_list"
     ],
     "language": "python",
     "metadata": {},
     "outputs": []
    },
    {
     "cell_type": "code",
     "collapsed": false,
     "input": [],
     "language": "python",
     "metadata": {},
     "outputs": []
    },
    {
     "cell_type": "markdown",
     "metadata": {},
     "source": [
      "## Exercise: loop over the div_by_3_list and print only the numbers divisible by 9\n",
      "\n",
      "One way to start this off could be:  \n",
      "```\n",
      "for t in div_by_3_list:\n",
      "    ...do something...\n",
      "```\n",
      "\n",
      "> 10 minutes: work as a group"
     ]
    },
    {
     "cell_type": "code",
     "collapsed": false,
     "input": [],
     "language": "python",
     "metadata": {},
     "outputs": []
    },
    {
     "cell_type": "code",
     "collapsed": false,
     "input": [
      "for t in div_by_3_list:\n",
      "    if t % 9 == 0:\n",
      "        print t, \" is divisible by nine.\""
     ],
     "language": "python",
     "metadata": {},
     "outputs": []
    },
    {
     "cell_type": "code",
     "collapsed": false,
     "input": [],
     "language": "python",
     "metadata": {},
     "outputs": []
    },
    {
     "cell_type": "markdown",
     "metadata": {},
     "source": [
      "## Looping over lists"
     ]
    },
    {
     "cell_type": "code",
     "collapsed": false,
     "input": [
      "things_I_like = ['Sushi', 'Risotto', 'Grapefruit', 'Pez']\n",
      "things_I_do_not_like = ['Marshmallow Peeps', 'Avocado', 'Tripe', 'Haggis']"
     ],
     "language": "python",
     "metadata": {},
     "outputs": []
    },
    {
     "cell_type": "code",
     "collapsed": false,
     "input": [
      "things_on_the_menu = ['Sushi', 'Beef Wellington', 'Mascarpone', 'Tripe', 'Pez']"
     ],
     "language": "python",
     "metadata": {},
     "outputs": []
    },
    {
     "cell_type": "markdown",
     "metadata": {},
     "source": [
      "## Exercise: \n",
      "\n",
      "* Loop over the items on the menu\n",
      "* Print \"would you like\" then the item name, and then a question mark\n",
      "* If the item is on the list of things I like, print a positive response\n",
      "* If the item is on the list of things I do not like, decline the offer\n",
      "* Otherwise say you are not sure\n",
      "\n",
      "> 5 minutes, work with yor table"
     ]
    },
    {
     "cell_type": "code",
     "collapsed": false,
     "input": [],
     "language": "python",
     "metadata": {},
     "outputs": []
    },
    {
     "cell_type": "code",
     "collapsed": false,
     "input": [
      "for thing in things_on_the_menu:\n",
      "    print \"Would you like some\", thing, \"?        \",\n",
      "    if thing in things_I_like:\n",
      "        print \"Yes indeed.\"\n",
      "    elif thing in things_I_do_not_like:\n",
      "        print \"No thanks.\"\n",
      "    else:\n",
      "        print \"Hmm, let me think about that\""
     ],
     "language": "python",
     "metadata": {},
     "outputs": []
    },
    {
     "cell_type": "code",
     "collapsed": false,
     "input": [],
     "language": "python",
     "metadata": {},
     "outputs": []
    },
    {
     "cell_type": "markdown",
     "metadata": {},
     "source": [
      "## Looping over dictionary items\n"
     ]
    },
    {
     "cell_type": "code",
     "collapsed": false,
     "input": [
      "things_I_like = ['Sushi', 'Risotto', 'Grapefruit', 'Pez']\n",
      "favorite_food_score = [8, 10, 7, 11]"
     ],
     "language": "python",
     "metadata": {},
     "outputs": []
    },
    {
     "cell_type": "code",
     "collapsed": false,
     "input": [
      "# dict(zip(list_of_keys, list_of_values)) makes a dictionary of key:value pairs\n",
      "favorites_dict = dict(zip(things_I_like, favorite_food_score))  "
     ],
     "language": "python",
     "metadata": {},
     "outputs": []
    },
    {
     "cell_type": "code",
     "collapsed": false,
     "input": [
      "favorites_dict"
     ],
     "language": "python",
     "metadata": {},
     "outputs": []
    },
    {
     "cell_type": "code",
     "collapsed": false,
     "input": [
      "favorites_dict.keys()"
     ],
     "language": "python",
     "metadata": {},
     "outputs": []
    },
    {
     "cell_type": "code",
     "collapsed": false,
     "input": [
      "favorites_dict.values()"
     ],
     "language": "python",
     "metadata": {},
     "outputs": []
    },
    {
     "cell_type": "code",
     "collapsed": false,
     "input": [
      "for k in favorites_dict.keys():\n",
      "    print \"My score for\", k, \"is:\", favorites_dict[k]"
     ],
     "language": "python",
     "metadata": {},
     "outputs": []
    },
    {
     "cell_type": "markdown",
     "metadata": {},
     "source": [
      "##... about that get() method"
     ]
    },
    {
     "cell_type": "code",
     "collapsed": false,
     "input": [
      "what_about = \"Pop-Tarts\""
     ],
     "language": "python",
     "metadata": {},
     "outputs": []
    },
    {
     "cell_type": "code",
     "collapsed": false,
     "input": [
      "favorites_dict[what_about]"
     ],
     "language": "python",
     "metadata": {},
     "outputs": []
    },
    {
     "cell_type": "code",
     "collapsed": false,
     "input": [
      "favorites_dict.get(what_about)"
     ],
     "language": "python",
     "metadata": {},
     "outputs": []
    },
    {
     "cell_type": "markdown",
     "metadata": {},
     "source": [
      "* `some_dictionary[some_key]` will throw a KeyError if some_key is not in that dictionary's keys\n",
      "* `some_dictionary.get(some_key)` will return `None` instead \n"
     ]
    },
    {
     "cell_type": "code",
     "collapsed": false,
     "input": [
      "# This works:\n",
      "if favorites_dict.get(\"Tilapia\") is None:\n",
      "    print \"Have you ever tried Tilapia?\""
     ],
     "language": "python",
     "metadata": {},
     "outputs": []
    },
    {
     "cell_type": "code",
     "collapsed": false,
     "input": [
      "# This does not work:\n",
      "if favorites_dict[\"Tilapia\"] is None:\n",
      "    print \"Have you ever tried Tilapia?\""
     ],
     "language": "python",
     "metadata": {},
     "outputs": []
    },
    {
     "cell_type": "markdown",
     "metadata": {},
     "source": [
      "---------\n",
      "\n",
      "# Functions"
     ]
    },
    {
     "cell_type": "markdown",
     "metadata": {},
     "source": [
      "### Math\n",
      "\n",
      "$$ f(x) = x^2$$"
     ]
    },
    {
     "cell_type": "markdown",
     "metadata": {},
     "source": [
      "$f$ is the _function name_      \n",
      "$x$ is the _argument_     \n",
      "$x^2$ is the value that is _returned_ by the function     "
     ]
    },
    {
     "cell_type": "markdown",
     "metadata": {},
     "source": [
      "### Python Version"
     ]
    },
    {
     "cell_type": "code",
     "collapsed": false,
     "input": [
      "def f(x):\n",
      "    \"\"\"\n",
      "    Calculate the square of the argument and return that value.\n",
      "    \"\"\"\n",
      "    calculated_value = x * x\n",
      "    return calculated_value"
     ],
     "language": "python",
     "metadata": {},
     "outputs": []
    },
    {
     "cell_type": "code",
     "collapsed": false,
     "input": [
      "f(3)"
     ],
     "language": "python",
     "metadata": {},
     "outputs": []
    },
    {
     "cell_type": "markdown",
     "metadata": {},
     "source": [
      "* `def` statement says that you are about to _define_ a new function    \n",
      "* `f` is the function name\n",
      "    * try to use short, descriptive names.\n",
      "    * a better name would have been `calc_square`\n",
      "* `x` is the argument\n",
      "    * can have more than one argument\n",
      "    * arguments can be of any type\n",
      "    * Don't forget the parenthesis around the arugments\n",
      "    * Don't forget the colon\n",
      "    * Don't forget - no space between the function name and the arguments\n",
      "        * def my_function(a, b, c):   # yes\n",
      "        * def my_function (a, b, c):  # will not work\n",
      "* `\"\"\"Calculate the square of the argument and return that value.\"\"\"` is the __docstring__ for the function. \n",
      "    * Ideally a single sentence, longer for more complex functions\n",
      "    * Start with a verb\n",
      "    * Write a complete sentence that ends with a period.\n",
      "* `calculated_value` is a variable that exists only in the context of the function\n",
      "    * _The **scope** of `calculated_value` is the function, f_"
     ]
    },
    {
     "cell_type": "code",
     "collapsed": false,
     "input": [
      "print(calculated_vaulue)"
     ],
     "language": "python",
     "metadata": {},
     "outputs": []
    },
    {
     "cell_type": "code",
     "collapsed": false,
     "input": [],
     "language": "python",
     "metadata": {},
     "outputs": []
    },
    {
     "cell_type": "code",
     "collapsed": false,
     "input": [
      "def my_product(x, y):\n",
      "    \"\"\"\n",
      "    Return the product of two numbers\n",
      "    \"\"\"\n",
      "    return x + y"
     ],
     "language": "python",
     "metadata": {},
     "outputs": []
    },
    {
     "cell_type": "code",
     "collapsed": false,
     "input": [],
     "language": "python",
     "metadata": {},
     "outputs": []
    },
    {
     "cell_type": "markdown",
     "metadata": {},
     "source": [
      "# Very Brief Intro to Testing\n",
      "\n",
      "> Is `my_product` going to work?"
     ]
    },
    {
     "cell_type": "code",
     "collapsed": false,
     "input": [
      "my_product(2, 2)"
     ],
     "language": "python",
     "metadata": {},
     "outputs": []
    },
    {
     "cell_type": "code",
     "collapsed": false,
     "input": [
      "my_product(0, 0)"
     ],
     "language": "python",
     "metadata": {},
     "outputs": []
    },
    {
     "cell_type": "code",
     "collapsed": false,
     "input": [
      "my_product(3, 3)"
     ],
     "language": "python",
     "metadata": {},
     "outputs": []
    },
    {
     "cell_type": "code",
     "collapsed": false,
     "input": [
      "assert my_product(3, 3) == 9, \"Three times Three is Nine.\""
     ],
     "language": "python",
     "metadata": {},
     "outputs": []
    },
    {
     "cell_type": "markdown",
     "metadata": {},
     "source": [
      " `assert` _something that is either True or False_, \"_Message to print if False_\"    \n",
      "\n",
      "* If you define a function, think of a few `assert` statements to test the function\n",
      "* Better yet, write the `assert` statements first!  \n",
      "    * Test-Driven Development (TDD)\n",
      "    * _something to look into in the future_\n",
      "    * python's `unittest` module"
     ]
    },
    {
     "cell_type": "markdown",
     "metadata": {},
     "source": [
      "## Exercise: Define a function called my_func that passes the following tests\n",
      "\n",
      "```\n",
      "assert my_func(0) == 0\n",
      "assert my_func(1) == 0\n",
      "assert my_func(2) == 3\n",
      "assert my_func(3) == 5\n",
      "assert my_func(4) == 7\n",
      "```"
     ]
    },
    {
     "cell_type": "code",
     "collapsed": false,
     "input": [
      "# This solution works\n",
      "def my_func(y):\n",
      "    \"\"\"Return 2y + 1 if y > 1, otherwise return 0.\"\"\"\n",
      "    ret_val = 0\n",
      "    if y > 1:\n",
      "        ret_val = 2 * y - 1\n",
      "    return ret_val\n",
      "    "
     ],
     "language": "python",
     "metadata": {},
     "outputs": []
    },
    {
     "cell_type": "code",
     "collapsed": false,
     "input": [
      "assert my_func(0) == 0\n",
      "assert my_func(1) == 0\n",
      "assert my_func(2) == 3\n",
      "assert my_func(3) == 5\n",
      "assert my_func(4) == 7"
     ],
     "language": "python",
     "metadata": {},
     "outputs": []
    },
    {
     "cell_type": "code",
     "collapsed": false,
     "input": [],
     "language": "python",
     "metadata": {},
     "outputs": []
    }
   ],
   "metadata": {}
  }
 ]
}